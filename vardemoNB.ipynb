{
 "cells": [
  {
   "cell_type": "markdown",
   "metadata": {},
   "source": [
    "# Variant annotation demonstration\n",
    "\n",
    "## Setup\n",
    "\n",
    "The 'variants' package defines dependencies for this session."
   ]
  },
  {
   "cell_type": "code",
   "execution_count": 72,
   "metadata": {},
   "outputs": [],
   "source": [
    "suppressPackageStartupMessages({\n",
    "library('variants')\n",
    "})"
   ]
  },
  {
   "cell_type": "markdown",
   "metadata": {},
   "source": [
    "## A VCF for a personalized genome\n",
    "\n",
    "We work with Complete Genomics public sequencing of DNA from a Coriell cell line from the CEPH/HapMap cohort."
   ]
  },
  {
   "cell_type": "code",
   "execution_count": 73,
   "metadata": {},
   "outputs": [
    {
     "data": {
      "text/plain": [
       "DataFrame with 3 rows and 3 columns\n",
       "        Number        Type                 Description\n",
       "   <character> <character>                 <character>\n",
       "NS           1     Integer Number of Samples With Data\n",
       "DP           1     Integer                 Total Depth\n",
       "DB           0        Flag dbSNP membership, build 131"
      ]
     },
     "metadata": {},
     "output_type": "display_data"
    }
   ],
   "source": [
    "## --------------------------------------------------------------------------\n",
    "file <- system.file(\"vcf\", \"NA06985_17.vcf.gz\", package = \"cgdv17\")\n",
    "\n",
    "## --------------------------------------------------------------------------\n",
    "hdr <- scanVcfHeader(file)\n",
    "\n",
    "info(hdr)"
   ]
  },
  {
   "cell_type": "code",
   "execution_count": 74,
   "metadata": {},
   "outputs": [
    {
     "data": {
      "text/plain": [
       "DataFrame with 12 rows and 3 columns\n",
       "            Number        Type                         Description\n",
       "       <character> <character>                         <character>\n",
       "GT               1      String                            Genotype\n",
       "GQ               1     Integer                    Genotype Quality\n",
       "DP               1     Integer                          Read Depth\n",
       "HDP              2     Integer                Haplotype Read Depth\n",
       "HQ               2     Integer                   Haplotype Quality\n",
       "...            ...         ...                                 ...\n",
       "mRNA             .      String                     Overlaping mRNA\n",
       "rmsk             .      String                  Overlaping Repeats\n",
       "segDup           .      String Overlaping segmentation duplication\n",
       "rCov             1       Float                   relative Coverage\n",
       "cPd              1      String                called Ploidy(level)"
      ]
     },
     "metadata": {},
     "output_type": "display_data"
    }
   ],
   "source": [
    "geno(hdr)"
   ]
  },
  {
   "cell_type": "code",
   "execution_count": 75,
   "metadata": {},
   "outputs": [
    {
     "data": {
      "text/plain": [
       "NULL"
      ]
     },
     "metadata": {},
     "output_type": "display_data"
    }
   ],
   "source": [
    "## --------------------------------------------------------------------------\n",
    "meta(hdr)$META"
   ]
  },
  {
   "cell_type": "markdown",
   "metadata": {},
   "source": [
    "## Defining the query gene, gathering coordinates"
   ]
  },
  {
   "cell_type": "code",
   "execution_count": 76,
   "metadata": {},
   "outputs": [
    {
     "name": "stderr",
     "output_type": "stream",
     "text": [
      "'select()' returned 1:1 mapping between keys and columns\n"
     ]
    },
    {
     "data": {
      "text/html": [
       "<table>\n",
       "<thead><tr><th scope=col>SYMBOL</th><th scope=col>ENTREZID</th></tr></thead>\n",
       "<tbody>\n",
       "\t<tr><td>ORMDL3</td><td>94103 </td></tr>\n",
       "</tbody>\n",
       "</table>\n"
      ],
      "text/latex": [
       "\\begin{tabular}{r|ll}\n",
       " SYMBOL & ENTREZID\\\\\n",
       "\\hline\n",
       "\t ORMDL3 & 94103 \\\\\n",
       "\\end{tabular}\n"
      ],
      "text/markdown": [
       "\n",
       "| SYMBOL | ENTREZID |\n",
       "|---|---|\n",
       "| ORMDL3 | 94103  |\n",
       "\n"
      ],
      "text/plain": [
       "  SYMBOL ENTREZID\n",
       "1 ORMDL3 94103   "
      ]
     },
     "metadata": {},
     "output_type": "display_data"
    }
   ],
   "source": [
    "#genesym <- c(\"TRPV1\", \"TRPV2\", \"TRPV3\")\n",
    "genesym <- c(\"ORMDL3\")\n",
    "geneid <- select(org.Hs.eg.db, keys=genesym, keytype=\"SYMBOL\",\n",
    "\t\t columns=\"ENTREZID\")\n",
    "geneid"
   ]
  },
  {
   "cell_type": "code",
   "execution_count": 77,
   "metadata": {},
   "outputs": [
    {
     "data": {
      "text/plain": [
       "TxDb object:\n",
       "# Db type: TxDb\n",
       "# Supporting package: GenomicFeatures\n",
       "# Data source: UCSC\n",
       "# Genome: hg19\n",
       "# Organism: Homo sapiens\n",
       "# Taxonomy ID: 9606\n",
       "# UCSC Table: knownGene\n",
       "# Resource URL: http://genome.ucsc.edu/\n",
       "# Type of Gene ID: Entrez Gene ID\n",
       "# Full dataset: yes\n",
       "# miRBase build ID: GRCh37\n",
       "# transcript_nrow: 82960\n",
       "# exon_nrow: 289969\n",
       "# cds_nrow: 237533\n",
       "# Db created by: GenomicFeatures package from Bioconductor\n",
       "# Creation time: 2015-10-07 18:11:28 +0000 (Wed, 07 Oct 2015)\n",
       "# GenomicFeatures version at creation time: 1.21.30\n",
       "# RSQLite version at creation time: 1.0.0\n",
       "# DBSCHEMAVERSION: 1.1"
      ]
     },
     "metadata": {},
     "output_type": "display_data"
    }
   ],
   "source": [
    "## --------------------------------------------------------------------------\n",
    "txdb <- TxDb.Hsapiens.UCSC.hg19.knownGene\n",
    "txdb"
   ]
  },
  {
   "cell_type": "code",
   "execution_count": 78,
   "metadata": {},
   "outputs": [
    {
     "data": {
      "text/plain": [
       "GRanges object with 1 range and 0 metadata columns:\n",
       "         seqnames            ranges strand\n",
       "            <Rle>         <IRanges>  <Rle>\n",
       "  ORMDL3       17 38077296-38083884      -\n",
       "  -------\n",
       "  seqinfo: 25 sequences (1 circular) from hg19 genome"
      ]
     },
     "metadata": {},
     "output_type": "display_data"
    }
   ],
   "source": [
    "## --------------------------------------------------------------------------\n",
    "#txdb <- renameSeqlevels(txdb, gsub(\"chr\", \"\", seqlevels(txdb)))\n",
    "#txdb <- keepSeqlevels(txdb, \"17\")\n",
    "library(GenomeInfoDb)\n",
    "seqlevelsStyle(txdb) = \"NCBI\"\n",
    "\n",
    "## --------------------------------------------------------------------------\n",
    "txbygene = transcriptsBy(txdb, \"gene\")\n",
    "\n",
    "## --------------------------------------------------------------------------\n",
    "gnrng <- unlist(range(txbygene[geneid$ENTREZID]), use.names=FALSE)\n",
    "names(gnrng) <- geneid$SYMBOL\n",
    "gnrng"
   ]
  },
  {
   "cell_type": "markdown",
   "metadata": {},
   "source": [
    "## Import and inspect a slice of VCF"
   ]
  },
  {
   "cell_type": "code",
   "execution_count": 79,
   "metadata": {},
   "outputs": [
    {
     "data": {
      "text/plain": [
       "class: ScanVcfParam \n",
       "vcfWhich: 25 elements\n",
       "vcfFixed: character() [All] \n",
       "vcfInfo: DP \n",
       "vcfGeno: GT cPd \n",
       "vcfSamples:  "
      ]
     },
     "metadata": {},
     "output_type": "display_data"
    }
   ],
   "source": [
    "## --------------------------------------------------------------------------\n",
    "param <- ScanVcfParam(which = gnrng+20000, info = \"DP\", geno = c(\"GT\", \"cPd\"))\n",
    "param"
   ]
  },
  {
   "cell_type": "code",
   "execution_count": 80,
   "metadata": {},
   "outputs": [
    {
     "data": {
      "text/plain": [
       "class: CollapsedVCF \n",
       "dim: 130 1 \n",
       "rowRanges(vcf):\n",
       "  GRanges with 5 metadata columns: paramRangeID, REF, ALT, QUAL, FILTER\n",
       "info(vcf):\n",
       "  DataFrame with 1 column: DP\n",
       "info(header(vcf)):\n",
       "      Number Type    Description\n",
       "   DP 1      Integer Total Depth\n",
       "geno(vcf):\n",
       "  SimpleList of length 2: GT, cPd\n",
       "geno(header(vcf)):\n",
       "       Number Type   Description         \n",
       "   GT  1      String Genotype            \n",
       "   cPd 1      String called Ploidy(level)"
      ]
     },
     "metadata": {},
     "output_type": "display_data"
    }
   ],
   "source": [
    "## Extract the TRPV ranges from the VCF file\n",
    "vcf <- readVcf(file, \"hg19\", param)\n",
    "## Inspect the VCF object with the 'fixed', 'info' and 'geno' accessors\n",
    "vcf"
   ]
  },
  {
   "cell_type": "markdown",
   "metadata": {},
   "source": [
    "## Analyze the discovered variants"
   ]
  },
  {
   "cell_type": "code",
   "execution_count": 81,
   "metadata": {},
   "outputs": [
    {
     "data": {
      "text/html": [
       "<ol class=list-inline>\n",
       "\t<li>'1'</li>\n",
       "\t<li>'2'</li>\n",
       "\t<li>'3'</li>\n",
       "\t<li>'4'</li>\n",
       "\t<li>'5'</li>\n",
       "\t<li>'6'</li>\n",
       "\t<li>'7'</li>\n",
       "\t<li>'8'</li>\n",
       "\t<li>'9'</li>\n",
       "\t<li>'10'</li>\n",
       "\t<li>'11'</li>\n",
       "\t<li>'12'</li>\n",
       "\t<li>'13'</li>\n",
       "\t<li>'14'</li>\n",
       "\t<li>'15'</li>\n",
       "\t<li>'16'</li>\n",
       "\t<li>'17'</li>\n",
       "\t<li>'18'</li>\n",
       "\t<li>'19'</li>\n",
       "\t<li>'20'</li>\n",
       "\t<li>'21'</li>\n",
       "\t<li>'22'</li>\n",
       "\t<li>'X'</li>\n",
       "\t<li>'Y'</li>\n",
       "\t<li>'M'</li>\n",
       "</ol>\n"
      ],
      "text/latex": [
       "\\begin{enumerate*}\n",
       "\\item '1'\n",
       "\\item '2'\n",
       "\\item '3'\n",
       "\\item '4'\n",
       "\\item '5'\n",
       "\\item '6'\n",
       "\\item '7'\n",
       "\\item '8'\n",
       "\\item '9'\n",
       "\\item '10'\n",
       "\\item '11'\n",
       "\\item '12'\n",
       "\\item '13'\n",
       "\\item '14'\n",
       "\\item '15'\n",
       "\\item '16'\n",
       "\\item '17'\n",
       "\\item '18'\n",
       "\\item '19'\n",
       "\\item '20'\n",
       "\\item '21'\n",
       "\\item '22'\n",
       "\\item 'X'\n",
       "\\item 'Y'\n",
       "\\item 'M'\n",
       "\\end{enumerate*}\n"
      ],
      "text/markdown": [
       "1. '1'\n",
       "2. '2'\n",
       "3. '3'\n",
       "4. '4'\n",
       "5. '5'\n",
       "6. '6'\n",
       "7. '7'\n",
       "8. '8'\n",
       "9. '9'\n",
       "10. '10'\n",
       "11. '11'\n",
       "12. '12'\n",
       "13. '13'\n",
       "14. '14'\n",
       "15. '15'\n",
       "16. '16'\n",
       "17. '17'\n",
       "18. '18'\n",
       "19. '19'\n",
       "20. '20'\n",
       "21. '21'\n",
       "22. '22'\n",
       "23. 'X'\n",
       "24. 'Y'\n",
       "25. 'M'\n",
       "\n",
       "\n"
      ],
      "text/plain": [
       " [1] \"1\"  \"2\"  \"3\"  \"4\"  \"5\"  \"6\"  \"7\"  \"8\"  \"9\"  \"10\" \"11\" \"12\" \"13\" \"14\" \"15\"\n",
       "[16] \"16\" \"17\" \"18\" \"19\" \"20\" \"21\" \"22\" \"X\"  \"Y\"  \"M\" "
      ]
     },
     "metadata": {},
     "output_type": "display_data"
    }
   ],
   "source": [
    "seqlevels(vcf)"
   ]
  },
  {
   "cell_type": "code",
   "execution_count": 82,
   "metadata": {},
   "outputs": [
    {
     "data": {
      "text/html": [
       "<ol class=list-inline>\n",
       "\t<li>'1'</li>\n",
       "\t<li>'2'</li>\n",
       "\t<li>'3'</li>\n",
       "\t<li>'4'</li>\n",
       "\t<li>'5'</li>\n",
       "\t<li>'6'</li>\n",
       "\t<li>'7'</li>\n",
       "\t<li>'8'</li>\n",
       "\t<li>'9'</li>\n",
       "\t<li>'10'</li>\n",
       "\t<li>'11'</li>\n",
       "\t<li>'12'</li>\n",
       "\t<li>'13'</li>\n",
       "\t<li>'14'</li>\n",
       "\t<li>'15'</li>\n",
       "\t<li>'16'</li>\n",
       "\t<li>'17'</li>\n",
       "\t<li>'18'</li>\n",
       "\t<li>'19'</li>\n",
       "\t<li>'20'</li>\n",
       "\t<li>'21'</li>\n",
       "\t<li>'22'</li>\n",
       "\t<li>'X'</li>\n",
       "\t<li>'Y'</li>\n",
       "\t<li>'MT'</li>\n",
       "</ol>\n"
      ],
      "text/latex": [
       "\\begin{enumerate*}\n",
       "\\item '1'\n",
       "\\item '2'\n",
       "\\item '3'\n",
       "\\item '4'\n",
       "\\item '5'\n",
       "\\item '6'\n",
       "\\item '7'\n",
       "\\item '8'\n",
       "\\item '9'\n",
       "\\item '10'\n",
       "\\item '11'\n",
       "\\item '12'\n",
       "\\item '13'\n",
       "\\item '14'\n",
       "\\item '15'\n",
       "\\item '16'\n",
       "\\item '17'\n",
       "\\item '18'\n",
       "\\item '19'\n",
       "\\item '20'\n",
       "\\item '21'\n",
       "\\item '22'\n",
       "\\item 'X'\n",
       "\\item 'Y'\n",
       "\\item 'MT'\n",
       "\\end{enumerate*}\n"
      ],
      "text/markdown": [
       "1. '1'\n",
       "2. '2'\n",
       "3. '3'\n",
       "4. '4'\n",
       "5. '5'\n",
       "6. '6'\n",
       "7. '7'\n",
       "8. '8'\n",
       "9. '9'\n",
       "10. '10'\n",
       "11. '11'\n",
       "12. '12'\n",
       "13. '13'\n",
       "14. '14'\n",
       "15. '15'\n",
       "16. '16'\n",
       "17. '17'\n",
       "18. '18'\n",
       "19. '19'\n",
       "20. '20'\n",
       "21. '21'\n",
       "22. '22'\n",
       "23. 'X'\n",
       "24. 'Y'\n",
       "25. 'MT'\n",
       "\n",
       "\n"
      ],
      "text/plain": [
       " [1] \"1\"  \"2\"  \"3\"  \"4\"  \"5\"  \"6\"  \"7\"  \"8\"  \"9\"  \"10\" \"11\" \"12\" \"13\" \"14\" \"15\"\n",
       "[16] \"16\" \"17\" \"18\" \"19\" \"20\" \"21\" \"22\" \"X\"  \"Y\"  \"MT\""
      ]
     },
     "metadata": {},
     "output_type": "display_data"
    }
   ],
   "source": [
    "txdb = keepStandardChromosomes(txdb)\n",
    "seqlevelsStyle(txdb) = \"NCBI\"\n",
    "seqlevels(txdb)"
   ]
  },
  {
   "cell_type": "code",
   "execution_count": 83,
   "metadata": {},
   "outputs": [
    {
     "data": {
      "text/html": [
       "<ol class=list-inline>\n",
       "\t<li>'1'</li>\n",
       "\t<li>'2'</li>\n",
       "\t<li>'3'</li>\n",
       "\t<li>'4'</li>\n",
       "\t<li>'5'</li>\n",
       "\t<li>'6'</li>\n",
       "\t<li>'7'</li>\n",
       "\t<li>'8'</li>\n",
       "\t<li>'9'</li>\n",
       "\t<li>'10'</li>\n",
       "\t<li>'11'</li>\n",
       "\t<li>'12'</li>\n",
       "\t<li>'13'</li>\n",
       "\t<li>'14'</li>\n",
       "\t<li>'15'</li>\n",
       "\t<li>'16'</li>\n",
       "\t<li>'17'</li>\n",
       "\t<li>'18'</li>\n",
       "\t<li>'19'</li>\n",
       "\t<li>'20'</li>\n",
       "\t<li>'21'</li>\n",
       "\t<li>'22'</li>\n",
       "\t<li>'X'</li>\n",
       "\t<li>'Y'</li>\n",
       "\t<li>'MT'</li>\n",
       "</ol>\n"
      ],
      "text/latex": [
       "\\begin{enumerate*}\n",
       "\\item '1'\n",
       "\\item '2'\n",
       "\\item '3'\n",
       "\\item '4'\n",
       "\\item '5'\n",
       "\\item '6'\n",
       "\\item '7'\n",
       "\\item '8'\n",
       "\\item '9'\n",
       "\\item '10'\n",
       "\\item '11'\n",
       "\\item '12'\n",
       "\\item '13'\n",
       "\\item '14'\n",
       "\\item '15'\n",
       "\\item '16'\n",
       "\\item '17'\n",
       "\\item '18'\n",
       "\\item '19'\n",
       "\\item '20'\n",
       "\\item '21'\n",
       "\\item '22'\n",
       "\\item 'X'\n",
       "\\item 'Y'\n",
       "\\item 'MT'\n",
       "\\end{enumerate*}\n"
      ],
      "text/markdown": [
       "1. '1'\n",
       "2. '2'\n",
       "3. '3'\n",
       "4. '4'\n",
       "5. '5'\n",
       "6. '6'\n",
       "7. '7'\n",
       "8. '8'\n",
       "9. '9'\n",
       "10. '10'\n",
       "11. '11'\n",
       "12. '12'\n",
       "13. '13'\n",
       "14. '14'\n",
       "15. '15'\n",
       "16. '16'\n",
       "17. '17'\n",
       "18. '18'\n",
       "19. '19'\n",
       "20. '20'\n",
       "21. '21'\n",
       "22. '22'\n",
       "23. 'X'\n",
       "24. 'Y'\n",
       "25. 'MT'\n",
       "\n",
       "\n"
      ],
      "text/plain": [
       " [1] \"1\"  \"2\"  \"3\"  \"4\"  \"5\"  \"6\"  \"7\"  \"8\"  \"9\"  \"10\" \"11\" \"12\" \"13\" \"14\" \"15\"\n",
       "[16] \"16\" \"17\" \"18\" \"19\" \"20\" \"21\" \"22\" \"X\"  \"Y\"  \"MT\""
      ]
     },
     "metadata": {},
     "output_type": "display_data"
    }
   ],
   "source": [
    "seqlevels(vcf)[25] = \"MT\"\n",
    "seqlevels(vcf)"
   ]
  },
  {
   "cell_type": "code",
   "execution_count": 84,
   "metadata": {},
   "outputs": [
    {
     "name": "stderr",
     "output_type": "stream",
     "text": [
      "Warning message in valid.GenomicRanges.seqinfo(x, suggest.trim = TRUE):\n",
      "“GRanges object contains 2 out-of-bound ranges located on sequence\n",
      "  61097. Note that ranges located on a sequence whose length is unknown\n",
      "  (NA) or on a circular sequence are not considered out-of-bound (use\n",
      "  seqlengths() and isCircular() to get the lengths and circularity flags\n",
      "  of the underlying sequences). You can use trim() to trim these ranges.\n",
      "  See ?`trim,GenomicRanges-method` for more information.”'select()' returned many:1 mapping between keys and columns\n",
      "'select()' returned many:1 mapping between keys and columns\n",
      "'select()' returned 1:1 mapping between keys and columns\n",
      "'select()' returned many:1 mapping between keys and columns\n",
      "'select()' returned many:1 mapping between keys and columns\n",
      "'select()' returned 1:1 mapping between keys and columns\n"
     ]
    },
    {
     "data": {
      "text/plain": [
       "GRanges object with 542 ranges and 9 metadata columns:\n",
       "                      seqnames            ranges strand |   LOCATION  LOCSTART\n",
       "                         <Rle>         <IRanges>  <Rle> |   <factor> <integer>\n",
       "   17:38057800_TGTT/T       17 38057800-38057803      * | intergenic      <NA>\n",
       "           rs11657449       17          38057841      * | intergenic      <NA>\n",
       "    17:38060534_GGC/.       17 38060534-38060536      * | intergenic      <NA>\n",
       "  17:38060609_ATAAA/.       17 38060609-38060613      * | intergenic      <NA>\n",
       "      17:38060627_A/.       17          38060627      * | intergenic      <NA>\n",
       "                  ...      ...               ...    ... .        ...       ...\n",
       "            rs4065986       17          38102641      * | intergenic      <NA>\n",
       "            rs3893044       17          38103016      * | intergenic      <NA>\n",
       "           rs62068170       17          38103210      * | intergenic      <NA>\n",
       "           rs62068171       17          38103242      * | intergenic      <NA>\n",
       "            rs8080734       17          38103285      * | intergenic      <NA>\n",
       "                         LOCEND   QUERYID        TXID         CDSID      GENEID\n",
       "                      <integer> <integer> <character> <IntegerList> <character>\n",
       "   17:38057800_TGTT/T      <NA>         1        <NA>          <NA>        <NA>\n",
       "           rs11657449      <NA>         2        <NA>          <NA>        <NA>\n",
       "    17:38060534_GGC/.      <NA>         3        <NA>          <NA>        <NA>\n",
       "  17:38060609_ATAAA/.      <NA>         4        <NA>          <NA>        <NA>\n",
       "      17:38060627_A/.      <NA>         5        <NA>          <NA>        <NA>\n",
       "                  ...       ...       ...         ...           ...         ...\n",
       "            rs4065986      <NA>       126        <NA>          <NA>        <NA>\n",
       "            rs3893044      <NA>       127        <NA>          <NA>        <NA>\n",
       "           rs62068170      <NA>       128        <NA>          <NA>        <NA>\n",
       "           rs62068171      <NA>       129        <NA>          <NA>        <NA>\n",
       "            rs8080734      <NA>       130        <NA>          <NA>        <NA>\n",
       "                                         PRECEDEID\n",
       "                                   <CharacterList>\n",
       "   17:38057800_TGTT/T 100505591,101340251,1236,...\n",
       "           rs11657449 100505591,101340251,1236,...\n",
       "    17:38060534_GGC/. 100505591,101340251,1236,...\n",
       "  17:38060609_ATAAA/. 100505591,101340251,1236,...\n",
       "      17:38060627_A/. 100505591,101340251,1236,...\n",
       "                  ...                          ...\n",
       "            rs4065986    101340251,1236,125111,...\n",
       "            rs3893044    101340251,1236,125111,...\n",
       "           rs62068170    101340251,1236,125111,...\n",
       "           rs62068171    101340251,1236,125111,...\n",
       "            rs8080734    101340251,1236,125111,...\n",
       "                                               FOLLOWID\n",
       "                                        <CharacterList>\n",
       "   17:38057800_TGTT/T 100131347,100505576,100616132,...\n",
       "           rs11657449 100131347,100505576,100616132,...\n",
       "    17:38060534_GGC/. 100131347,100505576,100616132,...\n",
       "  17:38060609_ATAAA/. 100131347,100505576,100616132,...\n",
       "      17:38060627_A/. 100131347,100505576,100616132,...\n",
       "                  ...                               ...\n",
       "            rs4065986 100131347,100505591,100616132,...\n",
       "            rs3893044 100131347,100505591,100616132,...\n",
       "           rs62068170 100131347,100505591,100616132,...\n",
       "           rs62068171 100131347,100505591,100616132,...\n",
       "            rs8080734 100131347,100505591,100616132,...\n",
       "  -------\n",
       "  seqinfo: 25 sequences from hg19 genome; no seqlengths"
      ]
     },
     "metadata": {},
     "output_type": "display_data"
    }
   ],
   "source": [
    "all <- locateVariants(vcf, txdb, AllVariants())\n",
    "all"
   ]
  },
  {
   "cell_type": "code",
   "execution_count": 85,
   "metadata": {},
   "outputs": [
    {
     "data": {
      "text/plain": [
       "\n",
       "FALSE  TRUE \n",
       "  112    18 "
      ]
     },
     "metadata": {},
     "output_type": "display_data"
    }
   ],
   "source": [
    "## --------------------------------------------------------------------------\n",
    "## Did any variants match more than one gene?\n",
    "table(sapply(split(mcols(all)$GENEID, mcols(all)$QUERYID),\n",
    "      function(x) length(unique(x)) > 1))\n",
    "             "
   ]
  },
  {
   "cell_type": "code",
   "execution_count": 86,
   "metadata": {},
   "outputs": [
    {
     "data": {
      "text/html": [
       "<dl class=dl-horizontal>\n",
       "\t<dt>100505591</dt>\n",
       "\t\t<dd>10</dd>\n",
       "\t<dt>55876</dt>\n",
       "\t\t<dd>56</dd>\n",
       "\t<dt>94103</dt>\n",
       "\t\t<dd>18</dd>\n",
       "</dl>\n"
      ],
      "text/latex": [
       "\\begin{description*}\n",
       "\\item[100505591] 10\n",
       "\\item[55876] 56\n",
       "\\item[94103] 18\n",
       "\\end{description*}\n"
      ],
      "text/markdown": [
       "100505591\n",
       ":   1055876\n",
       ":   5694103\n",
       ":   18\n",
       "\n"
      ],
      "text/plain": [
       "100505591     55876     94103 \n",
       "       10        56        18 "
      ]
     },
     "metadata": {},
     "output_type": "display_data"
    }
   ],
   "source": [
    "idx <- sapply(split(mcols(all)$QUERYID, mcols(all)$GENEID), unique)\n",
    "sapply(idx, length)\n",
    "             "
   ]
  },
  {
   "cell_type": "code",
   "execution_count": 87,
   "metadata": {},
   "outputs": [
    {
     "data": {
      "text/html": [
       "<table>\n",
       "<thead><tr><th></th><th scope=col>100505591</th><th scope=col>55876</th><th scope=col>94103</th></tr></thead>\n",
       "<tbody>\n",
       "\t<tr><th scope=row>spliceSite</th><td>0 </td><td> 0</td><td> 0</td></tr>\n",
       "\t<tr><th scope=row>intron</th><td>3 </td><td>25</td><td> 3</td></tr>\n",
       "\t<tr><th scope=row>fiveUTR</th><td>0 </td><td> 7</td><td> 0</td></tr>\n",
       "\t<tr><th scope=row>threeUTR</th><td>0 </td><td> 1</td><td> 1</td></tr>\n",
       "\t<tr><th scope=row>coding</th><td>2 </td><td> 3</td><td> 1</td></tr>\n",
       "\t<tr><th scope=row>intergenic</th><td>0 </td><td> 0</td><td> 0</td></tr>\n",
       "\t<tr><th scope=row>promoter</th><td>5 </td><td>20</td><td>13</td></tr>\n",
       "</tbody>\n",
       "</table>\n"
      ],
      "text/latex": [
       "\\begin{tabular}{r|lll}\n",
       "  & 100505591 & 55876 & 94103\\\\\n",
       "\\hline\n",
       "\tspliceSite & 0  &  0 &  0\\\\\n",
       "\tintron & 3  & 25 &  3\\\\\n",
       "\tfiveUTR & 0  &  7 &  0\\\\\n",
       "\tthreeUTR & 0  &  1 &  1\\\\\n",
       "\tcoding & 2  &  3 &  1\\\\\n",
       "\tintergenic & 0  &  0 &  0\\\\\n",
       "\tpromoter & 5  & 20 & 13\\\\\n",
       "\\end{tabular}\n"
      ],
      "text/markdown": [
       "\n",
       "| <!--/--> | 100505591 | 55876 | 94103 |\n",
       "|---|---|---|---|\n",
       "| spliceSite | 0  |  0 |  0 |\n",
       "| intron | 3  | 25 |  3 |\n",
       "| fiveUTR | 0  |  7 |  0 |\n",
       "| threeUTR | 0  |  1 |  1 |\n",
       "| coding | 2  |  3 |  1 |\n",
       "| intergenic | 0  |  0 |  0 |\n",
       "| promoter | 5  | 20 | 13 |\n",
       "\n"
      ],
      "text/plain": [
       "           100505591 55876 94103\n",
       "spliceSite 0          0     0   \n",
       "intron     3         25     3   \n",
       "fiveUTR    0          7     0   \n",
       "threeUTR   0          1     1   \n",
       "coding     2          3     1   \n",
       "intergenic 0          0     0   \n",
       "promoter   5         20    13   "
      ]
     },
     "metadata": {},
     "output_type": "display_data"
    }
   ],
   "source": [
    "## Summarize variant location by gene:\n",
    "sapply(names(idx),\n",
    "    function(nm) {\n",
    "\td <- all[mcols(all)$GENEID %in% nm, c(\"QUERYID\", \"LOCATION\")]\n",
    "\ttable(mcols(d)$LOCATION[duplicated(d) == FALSE])\n",
    "    })"
   ]
  },
  {
   "cell_type": "markdown",
   "metadata": {},
   "source": [
    "## Variant impact assessment"
   ]
  },
  {
   "cell_type": "code",
   "execution_count": 88,
   "metadata": {},
   "outputs": [
    {
     "name": "stderr",
     "output_type": "stream",
     "text": [
      "Warning message in valid.GenomicRanges.seqinfo(x, suggest.trim = TRUE):\n",
      "“GRanges object contains 2 out-of-bound ranges located on sequence\n",
      "  61097. Note that ranges located on a sequence whose length is unknown\n",
      "  (NA) or on a circular sequence are not considered out-of-bound (use\n",
      "  seqlengths() and isCircular() to get the lengths and circularity flags\n",
      "  of the underlying sequences). You can use trim() to trim these ranges.\n",
      "  See ?`trim,GenomicRanges-method` for more information.”Warning message in .predictCodingGRangesList(query, cache[[\"cdsbytx\"]], seqSource, :\n",
      "“records with missing 'varAllele' were ignored”"
     ]
    },
    {
     "data": {
      "text/plain": [
       "GRanges object with 25 ranges and 17 metadata columns:\n",
       "                      seqnames            ranges strand | paramRangeID\n",
       "                         <Rle>         <IRanges>  <Rle> |     <factor>\n",
       "      17:38062111_T/.    chr17          38062111      - |       ORMDL3\n",
       "      17:38062111_T/.    chr17          38062111      - |       ORMDL3\n",
       "      17:38062111_T/.    chr17          38062111      - |       ORMDL3\n",
       "      17:38062111_T/.    chr17          38062111      - |       ORMDL3\n",
       "      17:38062111_T/.    chr17          38062111      - |       ORMDL3\n",
       "                  ...      ...               ...    ... .          ...\n",
       "            rs2305479    chr17          38062217      - |       ORMDL3\n",
       "      17:38080385_G/.    chr17          38080385      - |       ORMDL3\n",
       "      17:38080385_G/.    chr17          38080385      - |       ORMDL3\n",
       "      17:38100278_G/.    chr17          38100278      + |       ORMDL3\n",
       "  17:38100751_CAGGA/.    chr17 38100751-38100755      + |       ORMDL3\n",
       "                                 REF                ALT      QUAL      FILTER\n",
       "                      <DNAStringSet> <DNAStringSetList> <numeric> <character>\n",
       "      17:38062111_T/.              T                           25        PASS\n",
       "      17:38062111_T/.              T                           25        PASS\n",
       "      17:38062111_T/.              T                           25        PASS\n",
       "      17:38062111_T/.              T                           25        PASS\n",
       "      17:38062111_T/.              T                           25        PASS\n",
       "                  ...            ...                ...       ...         ...\n",
       "            rs2305479              C                  T       121        PASS\n",
       "      17:38080385_G/.              G                           32        PASS\n",
       "      17:38080385_G/.              G                           32        PASS\n",
       "      17:38100278_G/.              G                            0        PASS\n",
       "  17:38100751_CAGGA/.          CAGGA                            0        PASS\n",
       "                           varAllele    CDSLOC    PROTEINLOC   QUERYID\n",
       "                      <DNAStringSet> <IRanges> <IntegerList> <integer>\n",
       "      17:38062111_T/.                      257            86        10\n",
       "      17:38062111_T/.                      257            86        10\n",
       "      17:38062111_T/.                      257            86        10\n",
       "      17:38062111_T/.                      950           317        10\n",
       "      17:38062111_T/.                      977           326        10\n",
       "                  ...            ...       ...           ...       ...\n",
       "            rs2305479              A       883           295        12\n",
       "      17:38080385_G/.                       72            24        64\n",
       "      17:38080385_G/.                       72            24        64\n",
       "      17:38100278_G/.                      119            40       116\n",
       "  17:38100751_CAGGA/.                  592-596       198,199       117\n",
       "                             TXID         CDSID      GENEID    CONSEQUENCE\n",
       "                      <character> <IntegerList> <character>       <factor>\n",
       "      17:38062111_T/.       63367        185492       55876 not translated\n",
       "      17:38062111_T/.       63368        185492       55876 not translated\n",
       "      17:38062111_T/.       63371        185492       55876 not translated\n",
       "      17:38062111_T/.       63372        185492       55876 not translated\n",
       "      17:38062111_T/.       63373        185492       55876 not translated\n",
       "                  ...         ...           ...         ...            ...\n",
       "            rs2305479       63375        185492       55876  nonsynonymous\n",
       "      17:38080385_G/.       63377        185503       94103 not translated\n",
       "      17:38080385_G/.       63378        185503       94103 not translated\n",
       "      17:38100278_G/.       61097        178665   100505591 not translated\n",
       "  17:38100751_CAGGA/.       61097        178665   100505591 not translated\n",
       "                            REFCODON       VARCODON         REFAA         VARAA\n",
       "                      <DNAStringSet> <DNAStringSet> <AAStringSet> <AAStringSet>\n",
       "      17:38062111_T/.            GAT             GT                            \n",
       "      17:38062111_T/.            GAT             GT                            \n",
       "      17:38062111_T/.            GAT             GT                            \n",
       "      17:38062111_T/.            GAT             GT                            \n",
       "      17:38062111_T/.            GAT             GT                            \n",
       "                  ...            ...            ...           ...           ...\n",
       "            rs2305479            GGG            AGG             G             R\n",
       "      17:38080385_G/.            CTC             CT                            \n",
       "      17:38080385_G/.            CTC             CT                            \n",
       "      17:38100278_G/.            GGT             GT                            \n",
       "  17:38100751_CAGGA/.         CAGGAG              G                            \n",
       "  -------\n",
       "  seqinfo: 25 sequences from hg19 genome; no seqlengths"
      ]
     },
     "metadata": {},
     "output_type": "display_data"
    }
   ],
   "source": [
    "## --------------------------------------------------------------------------\n",
    "seqlevelsStyle(vcf) <- \"UCSC\"\n",
    "seqlevelsStyle(txdb) <- \"UCSC\"\n",
    "aa <- predictCoding(vcf, txdb, Hsapiens)\n",
    "aa"
   ]
  },
  {
   "cell_type": "code",
   "execution_count": 89,
   "metadata": {},
   "outputs": [
    {
     "data": {
      "text/plain": [
       "\n",
       "FALSE \n",
       "    6 "
      ]
     },
     "metadata": {},
     "output_type": "display_data"
    },
    {
     "data": {
      "text/html": [
       "<dl class=dl-horizontal>\n",
       "\t<dt>100505591</dt>\n",
       "\t\t<dd>2</dd>\n",
       "\t<dt>55876</dt>\n",
       "\t\t<dd>3</dd>\n",
       "\t<dt>94103</dt>\n",
       "\t\t<dd>1</dd>\n",
       "</dl>\n"
      ],
      "text/latex": [
       "\\begin{description*}\n",
       "\\item[100505591] 2\n",
       "\\item[55876] 3\n",
       "\\item[94103] 1\n",
       "\\end{description*}\n"
      ],
      "text/markdown": [
       "100505591\n",
       ":   255876\n",
       ":   394103\n",
       ":   1\n",
       "\n"
      ],
      "text/plain": [
       "100505591     55876     94103 \n",
       "        2         3         1 "
      ]
     },
     "metadata": {},
     "output_type": "display_data"
    }
   ],
   "source": [
    "## --------------------------------------------------------------------------\n",
    "## Did any variants match more than one gene?\n",
    "table(sapply(split(mcols(aa)$GENEID, mcols(aa)$QUERYID),\n",
    "\tfunction(x) length(unique(x)) > 1))\n",
    "\n",
    "## Summarize the number of variants by gene:\n",
    "idx <- sapply(split(mcols(aa)$QUERYID, mcols(aa)$GENEID, drop=TRUE), unique)\n",
    "sapply(idx, length)\n",
    "             "
   ]
  },
  {
   "cell_type": "code",
   "execution_count": 90,
   "metadata": {},
   "outputs": [
    {
     "data": {
      "text/html": [
       "<table>\n",
       "<thead><tr><th></th><th scope=col>100505591</th><th scope=col>55876</th><th scope=col>94103</th></tr></thead>\n",
       "<tbody>\n",
       "\t<tr><th scope=row>nonsynonymous</th><td>0</td><td>2</td><td>0</td></tr>\n",
       "\t<tr><th scope=row>not translated</th><td>2</td><td>1</td><td>1</td></tr>\n",
       "</tbody>\n",
       "</table>\n"
      ],
      "text/latex": [
       "\\begin{tabular}{r|lll}\n",
       "  & 100505591 & 55876 & 94103\\\\\n",
       "\\hline\n",
       "\tnonsynonymous & 0 & 2 & 0\\\\\n",
       "\tnot translated & 2 & 1 & 1\\\\\n",
       "\\end{tabular}\n"
      ],
      "text/markdown": [
       "\n",
       "| <!--/--> | 100505591 | 55876 | 94103 |\n",
       "|---|---|---|---|\n",
       "| nonsynonymous | 0 | 2 | 0 |\n",
       "| not translated | 2 | 1 | 1 |\n",
       "\n"
      ],
      "text/plain": [
       "               100505591 55876 94103\n",
       "nonsynonymous  0         2     0    \n",
       "not translated 2         1     1    "
      ]
     },
     "metadata": {},
     "output_type": "display_data"
    },
    {
     "data": {
      "text/plain": [
       "R Under development (unstable) (2018-11-16 r75612)\n",
       "Platform: x86_64-apple-darwin15.6.0 (64-bit)\n",
       "Running under: macOS Sierra 10.12.6\n",
       "\n",
       "Matrix products: default\n",
       "BLAS: /Library/Frameworks/R.framework/Versions/3.6/Resources/lib/libRblas.0.dylib\n",
       "LAPACK: /Library/Frameworks/R.framework/Versions/3.6/Resources/lib/libRlapack.dylib\n",
       "\n",
       "locale:\n",
       "[1] en_US.UTF-8/en_US.UTF-8/en_US.UTF-8/C/en_US.UTF-8/en_US.UTF-8\n",
       "\n",
       "attached base packages:\n",
       "[1] stats4    parallel  stats     graphics  grDevices utils     datasets \n",
       "[8] methods   base     \n",
       "\n",
       "other attached packages:\n",
       " [1] variants_1.7.1                         \n",
       " [2] PolyPhen.Hsapiens.dbSNP131_1.0.2       \n",
       " [3] RSQLite_2.1.1                          \n",
       " [4] BSgenome.Hsapiens.UCSC.hg19_1.4.0      \n",
       " [5] BSgenome_1.51.0                        \n",
       " [6] rtracklayer_1.43.1                     \n",
       " [7] TxDb.Hsapiens.UCSC.hg19.knownGene_3.2.2\n",
       " [8] GenomicFeatures_1.35.7                 \n",
       " [9] org.Hs.eg.db_3.7.0                     \n",
       "[10] AnnotationDbi_1.45.0                   \n",
       "[11] cgdv17_0.21.0                          \n",
       "[12] VariantAnnotation_1.29.19              \n",
       "[13] Rsamtools_1.99.2                       \n",
       "[14] Biostrings_2.51.2                      \n",
       "[15] XVector_0.23.0                         \n",
       "[16] SummarizedExperiment_1.13.0            \n",
       "[17] DelayedArray_0.9.8                     \n",
       "[18] BiocParallel_1.17.14                   \n",
       "[19] matrixStats_0.54.0                     \n",
       "[20] Biobase_2.43.1                         \n",
       "[21] GenomicRanges_1.35.1                   \n",
       "[22] GenomeInfoDb_1.19.2                    \n",
       "[23] IRanges_2.17.4                         \n",
       "[24] S4Vectors_0.21.10                      \n",
       "[25] BiocGenerics_0.29.1                    \n",
       "[26] rmarkdown_1.11                         \n",
       "\n",
       "loaded via a namespace (and not attached):\n",
       " [1] Rcpp_1.0.0               lattice_0.20-38          prettyunits_1.0.2       \n",
       " [4] assertthat_0.2.0         digest_0.6.18            IRdisplay_0.7.0         \n",
       " [7] R6_2.4.0                 repr_0.19.2              evaluate_0.13           \n",
       "[10] httr_1.4.0               zlibbioc_1.29.0          rlang_0.3.1             \n",
       "[13] progress_1.2.0           uuid_0.1-2               blob_1.1.1              \n",
       "[16] Matrix_1.2-15            startup_0.11.0           stringr_1.4.0           \n",
       "[19] RCurl_1.95-4.11          bit_1.1-14               biomaRt_2.39.2          \n",
       "[22] compiler_3.6.0           xfun_0.4                 pkgconfig_2.0.2         \n",
       "[25] base64enc_0.1-3          htmltools_0.3.6          GenomeInfoDbData_1.2.0  \n",
       "[28] XML_3.98-1.17            crayon_1.3.4             GenomicAlignments_1.19.1\n",
       "[31] bitops_1.0-6             grid_3.6.0               jsonlite_1.6            \n",
       "[34] DBI_1.0.0                magrittr_1.5             stringi_1.2.4           \n",
       "[37] IRkernel_0.8.15          tools_3.6.0              bit64_0.9-7             \n",
       "[40] hms_0.4.2                memoise_1.1.0            pbdZMQ_0.3-3            \n",
       "[43] knitr_1.21              "
      ]
     },
     "metadata": {},
     "output_type": "display_data"
    }
   ],
   "source": [
    "## Summarize variant consequence by gene:\n",
    "sapply(names(idx),\n",
    "       function(nm) {\n",
    "\t   d <- aa[mcols(aa)$GENEID %in% nm, c(\"QUERYID\",\"CONSEQUENCE\")]\n",
    "\t   table(mcols(d)$CONSEQUENCE[duplicated(d) == FALSE])\n",
    "       })\n",
    "\n",
    "sessionInfo()"
   ]
  }
 ],
 "metadata": {
  "kernelspec": {
   "display_name": "R",
   "language": "R",
   "name": "ir"
  },
  "language_info": {
   "codemirror_mode": "r",
   "file_extension": ".r",
   "mimetype": "text/x-r-source",
   "name": "R",
   "pygments_lexer": "r",
   "version": "3.6.0"
  }
 },
 "nbformat": 4,
 "nbformat_minor": 2
}
